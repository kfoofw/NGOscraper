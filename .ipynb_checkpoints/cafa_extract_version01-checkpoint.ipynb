{
 "cells": [
  {
   "cell_type": "markdown",
   "metadata": {},
   "source": [
    "Data Source: CAFA   \n",
    "\n",
    "Link:    \n",
    "https://cafa.iphiview.com/cafa/GivingOpportunities/SearchResults/tabid/617/dispatch/dagenhancedcharitysearchbyfocusandgeographicarea_focusArea$0_geographicArea$10004_country$0/Default.aspx\n"
   ]
  },
  {
   "cell_type": "code",
   "execution_count": 1,
   "metadata": {},
   "outputs": [
    {
     "name": "stderr",
     "output_type": "stream",
     "text": [
      "C:\\local\\Anaconda3-4.1.1\\lib\\site-packages\\selenium\\webdriver\\phantomjs\\webdriver.py:49: UserWarning: Selenium support for PhantomJS has been deprecated, please use headless versions of Chrome or Firefox instead\n",
      "  warnings.warn('Selenium support for PhantomJS has been deprecated, please use headless '\n"
     ]
    }
   ],
   "source": [
    "from selenium import webdriver\n",
    "browser = webdriver.PhantomJS(executable_path=r'D:\\Laboratory\\Tools\\selenium_drivers\\phantomjs-2.1.1-windows\\bin\\phantomjs.exe')"
   ]
  },
  {
   "cell_type": "code",
   "execution_count": 2,
   "metadata": {
    "collapsed": true
   },
   "outputs": [],
   "source": [
    "url = 'https://cafa.iphiview.com/cafa/GivingOpportunities/SearchResults/tabid/617/dispatch/dagenhancedcharitysearchbyfocusandgeographicarea_focusArea$0_geographicArea$10004_country$0/Default.aspx'\n",
    "browser.get(url)"
   ]
  },
  {
   "cell_type": "code",
   "execution_count": 3,
   "metadata": {
    "collapsed": true
   },
   "outputs": [],
   "source": [
    "from bs4 import BeautifulSoup\n",
    "init_page_soup = BeautifulSoup(browser.page_source, \"lxml\")"
   ]
  },
  {
   "cell_type": "code",
   "execution_count": 13,
   "metadata": {
    "collapsed": true
   },
   "outputs": [],
   "source": [
    "org_blocks = init_page_soup.find_all(\"td\", attrs={'class': 'OrganizationName'})"
   ]
  },
  {
   "cell_type": "code",
   "execution_count": 16,
   "metadata": {
    "collapsed": true
   },
   "outputs": [],
   "source": [
    "data = {}\n",
    "for org_block in org_blocks:\n",
    "    link = \"https://cafa.iphiview.com\" + org_block.find_all('a', href=True)[0]['href']\n",
    "    org_name = org_block.find_all('a', href=True)[0].string.strip()\n",
    "    data[org_name] = link"
   ]
  },
  {
   "cell_type": "code",
   "execution_count": 17,
   "metadata": {},
   "outputs": [
    {
     "data": {
      "text/plain": [
       "{'ABS-CBN Foundation Bantay Bata 163': 'https://cafa.iphiview.com/cafa/DispatchRedirect.aspx?dispatch=byorganization_id$129051_hash$8bd410e93a741f57c7c0610fc2fdeed6a4b31cc9',\n",
       " 'Aarohan': 'https://cafa.iphiview.com/cafa/DispatchRedirect.aspx?dispatch=byorganization_id$219149_hash$2228f08d4067030336ea1e720deb3e1519cf0f12',\n",
       " 'Able Disabled All People Together': 'https://cafa.iphiview.com/cafa/DispatchRedirect.aspx?dispatch=byorganization_id$112732_hash$650de770114a24a0d7fd6571b9fe57204d19636e',\n",
       " 'Acid Survivors Foundation': 'https://cafa.iphiview.com/cafa/DispatchRedirect.aspx?dispatch=byorganization_id$11079_hash$e21bd889631ed3124b81354369a353cf1608424c',\n",
       " 'Action for AIDS Singapore': 'https://cafa.iphiview.com/cafa/DispatchRedirect.aspx?dispatch=byorganization_id$127949_hash$5a9fa927b49abc39ce64d96e32cb514d8fa64ff8',\n",
       " 'Action for Autism': 'https://cafa.iphiview.com/cafa/DispatchRedirect.aspx?dispatch=byorganization_id$169426_hash$d38e4d5975b0323d91ab4192c95cac9621340d89',\n",
       " 'Acts of Hope': 'https://cafa.iphiview.com/cafa/DispatchRedirect.aspx?dispatch=byorganization_id$184535_hash$995df38d297e4dab0d8dfd4c63a806677c7d3951',\n",
       " 'Agastya International Foundation': 'https://cafa.iphiview.com/cafa/DispatchRedirect.aspx?dispatch=byorganization_id$173723_hash$c55e57263d5338283f004be955605ec1df54ce97',\n",
       " 'Aid India': 'https://cafa.iphiview.com/cafa/DispatchRedirect.aspx?dispatch=byorganization_id$137385_hash$2fb1294b749edc7eb19bb7ad4a0e5aa81d154b75',\n",
       " 'Ajay Shiv Charitable Foundations': 'https://cafa.iphiview.com/cafa/DispatchRedirect.aspx?dispatch=byorganization_id$32778_hash$fe9482c8ece1962c85b9121a8449650570179a6e'}"
      ]
     },
     "execution_count": 17,
     "metadata": {},
     "output_type": "execute_result"
    }
   ],
   "source": [
    "data"
   ]
  },
  {
   "cell_type": "code",
   "execution_count": null,
   "metadata": {
    "collapsed": true
   },
   "outputs": [],
   "source": []
  }
 ],
 "metadata": {
  "kernelspec": {
   "display_name": "Python 3",
   "language": "python",
   "name": "python3"
  },
  "language_info": {
   "codemirror_mode": {
    "name": "ipython",
    "version": 3
   },
   "file_extension": ".py",
   "mimetype": "text/x-python",
   "name": "python",
   "nbconvert_exporter": "python",
   "pygments_lexer": "ipython3",
   "version": "3.6.3"
  }
 },
 "nbformat": 4,
 "nbformat_minor": 1
}
